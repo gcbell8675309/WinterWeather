{
 "cells": [
  {
   "cell_type": "code",
   "execution_count": 1,
   "id": "1432cf7e",
   "metadata": {},
   "outputs": [],
   "source": [
    "# Import Meteostat library and dependencies\n",
    "from datetime import datetime\n",
    "import matplotlib.pyplot as plt\n",
    "import seaborn as sns\n",
    "import pandas as pd\n",
    "import numpy as np\n",
    "import math\n",
    "from meteostat import Point, Daily, units, Stations"
   ]
  },
  {
   "cell_type": "code",
   "execution_count": 12,
   "id": "f4893613",
   "metadata": {},
   "outputs": [],
   "source": [
    "mtwashington = Point(44.2691, -70.65, 2000)"
   ]
  },
  {
   "cell_type": "code",
   "execution_count": 15,
   "id": "28ee3508",
   "metadata": {},
   "outputs": [
    {
     "name": "stdout",
     "output_type": "stream",
     "text": [
      "Empty DataFrame\n",
      "Columns: [name, country, region, wmo, icao, latitude, longitude, elevation, timezone, hourly_start, hourly_end, daily_start, daily_end, monthly_start, monthly_end, distance]\n",
      "Index: []\n"
     ]
    }
   ],
   "source": [
    "# Get nearby weather stations\n",
    "stations = Stations()\n",
    "stations = stations.nearby(44.57, -71.30, 675)\n",
    "#stations.radius=9500000\n",
    "station = stations.fetch(10)\n",
    "\n",
    "# Print DataFrame\n",
    "print(station)"
   ]
  },
  {
   "cell_type": "code",
   "execution_count": 8,
   "id": "c57c1c58",
   "metadata": {},
   "outputs": [
    {
     "name": "stdout",
     "output_type": "stream",
     "text": [
      "                   name country region    wmo  icao  latitude  longitude  \\\n",
      "id                                                                         \n",
      "72613  Mount Washington      US     NH  72613  KMWN   44.2667      -71.3   \n",
      "\n",
      "       elevation          timezone hourly_start hourly_end daily_start  \\\n",
      "id                                                                       \n",
      "72613     1909.0  America/New_York   2006-01-01 2023-03-10  1948-01-01   \n",
      "\n",
      "       daily_end monthly_start monthly_end  distance  \n",
      "id                                                    \n",
      "72613 2023-03-05    1948-01-01  2022-01-01    1019.6  \n"
     ]
    }
   ],
   "source": [
    "from meteostat import Stations, units\n",
    "\n",
    "stations = Stations()\n",
    "stations = stations.nearby(44.2691, -71.3020,2000)\n",
    "stations = stations.convert({ 'distance': units.feet })\n",
    "stations = stations.fetch(10)\n",
    "\n",
    "print(stations)"
   ]
  },
  {
   "cell_type": "code",
   "execution_count": null,
   "id": "2495a52a",
   "metadata": {},
   "outputs": [],
   "source": []
  }
 ],
 "metadata": {
  "kernelspec": {
   "display_name": "Python 3 (ipykernel)",
   "language": "python",
   "name": "python3"
  },
  "language_info": {
   "codemirror_mode": {
    "name": "ipython",
    "version": 3
   },
   "file_extension": ".py",
   "mimetype": "text/x-python",
   "name": "python",
   "nbconvert_exporter": "python",
   "pygments_lexer": "ipython3",
   "version": "3.9.16"
  }
 },
 "nbformat": 4,
 "nbformat_minor": 5
}
